{
  "nbformat": 4,
  "nbformat_minor": 0,
  "metadata": {
    "colab": {
      "name": "Python Basics, Conditional Loops",
      "provenance": []
    },
    "kernelspec": {
      "name": "python3",
      "display_name": "Python 3"
    },
    "language_info": {
      "name": "python"
    }
  },
  "cells": [
    {
      "cell_type": "code",
      "metadata": {
        "colab": {
          "base_uri": "https://localhost:8080/"
        },
        "id": "Xqv4AWnn8tWf",
        "outputId": "78ba12fc-5dd7-40aa-89d7-fd9474b08e5b"
      },
      "source": [
        "for i in range(2000,3201):\n",
        "  if i%7==0 and i%5==0:\n",
        "    print(i,end=\",\")"
      ],
      "execution_count": 2,
      "outputs": [
        {
          "output_type": "stream",
          "name": "stdout",
          "text": [
            "2030,2065,2100,2135,2170,2205,2240,2275,2310,2345,2380,2415,2450,2485,2520,2555,2590,2625,2660,2695,2730,2765,2800,2835,2870,2905,2940,2975,3010,3045,3080,3115,3150,3185,"
          ]
        }
      ]
    },
    {
      "cell_type": "code",
      "metadata": {
        "colab": {
          "base_uri": "https://localhost:8080/"
        },
        "id": "GA9x_tFq8y3R",
        "outputId": "71c1cb56-31db-4517-e1c3-c5512c414e0d"
      },
      "source": [
        "first_name = input(\"user first name:\")\n",
        "second_name = input(\"user second name:\")\n",
        "print(second_name,\"\",first_name)"
      ],
      "execution_count": 3,
      "outputs": [
        {
          "output_type": "stream",
          "name": "stdout",
          "text": [
            "user first name:vinod\n",
            "user second name:kumar\n",
            "kumar  vinod\n"
          ]
        }
      ]
    },
    {
      "cell_type": "code",
      "metadata": {
        "id": "qk_8DAm280ql"
      },
      "source": [
        "def vol_sphere(r):\n",
        "  k = 4/3 * 22/7 *r**3\n",
        "  return(\"vol of sphere is\",k )"
      ],
      "execution_count": 4,
      "outputs": []
    },
    {
      "cell_type": "code",
      "metadata": {
        "colab": {
          "base_uri": "https://localhost:8080/"
        },
        "id": "cD29vrqD86QA",
        "outputId": "72e7bbc3-0f2a-4d24-d32a-f2d3461a7e49"
      },
      "source": [
        "vol_sphere(12)"
      ],
      "execution_count": 5,
      "outputs": [
        {
          "output_type": "execute_result",
          "data": {
            "text/plain": [
              "('vol of sphere is', 7241.142857142858)"
            ]
          },
          "metadata": {},
          "execution_count": 5
        }
      ]
    },
    {
      "cell_type": "code",
      "metadata": {
        "id": "GvmCedl488zi"
      },
      "source": [
        ""
      ],
      "execution_count": null,
      "outputs": []
    }
  ]
}